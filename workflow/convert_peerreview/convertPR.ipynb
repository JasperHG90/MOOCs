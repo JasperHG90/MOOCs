{
 "cells": [
  {
   "cell_type": "code",
   "execution_count": 1,
   "metadata": {
    "collapsed": false
   },
   "outputs": [
    {
     "data": {
      "text/plain": [
       "'\\nThis script takes all HTML files in a folder with peer reviewed assignments and stores them in a SQLite database with\\ntwo tables; \\n\\n  (1) Assignments (full text)\\n  (2) Reviews (scores)\\n'"
      ]
     },
     "execution_count": 1,
     "metadata": {},
     "output_type": "execute_result"
    }
   ],
   "source": [
    "'''\n",
    "This script takes all HTML files in a folder with peer reviewed assignments and stores them in a SQLite database with\n",
    "two tables; \n",
    "\n",
    "  (1) Assignments (full text)\n",
    "  (2) Reviews (scores)\n",
    "  \n",
    "Meta:\n",
    "- Written by: Jasper Ginn\n",
    "- Affiliation: Online learning lab, Leiden Centre for Innovation, Leiden University\n",
    "- Date: 27-05-2015\n",
    "'''"
   ]
  },
  {
   "cell_type": "code",
   "execution_count": 2,
   "metadata": {
    "collapsed": false
   },
   "outputs": [],
   "source": [
    "'''\n",
    "+++ LOAD MODULES +++\n",
    "'''\n",
    "\n",
    "from bs4 import BeautifulSoup\n",
    "import sqlite3 as lite\n",
    "import requests\n",
    "import urllib2\n",
    "import re"
   ]
  },
  {
   "cell_type": "code",
   "execution_count": 3,
   "metadata": {
    "collapsed": false
   },
   "outputs": [
    {
     "ename": "ImportError",
     "evalue": "No module named pdfminer.pdfparser",
     "output_type": "error",
     "traceback": [
      "\u001b[0;31m---------------------------------------------------------------------------\u001b[0m",
      "\u001b[0;31mImportError\u001b[0m                               Traceback (most recent call last)",
      "\u001b[0;32m<ipython-input-3-6c5d1974407e>\u001b[0m in \u001b[0;36m<module>\u001b[0;34m()\u001b[0m\n\u001b[0;32m----> 1\u001b[0;31m \u001b[0;32mimport\u001b[0m \u001b[0mslate\u001b[0m\u001b[0;34m\u001b[0m\u001b[0m\n\u001b[0m",
      "\u001b[0;32m/Users/Jasper/anaconda/lib/python2.7/site-packages/slate/__init__.py\u001b[0m in \u001b[0;36m<module>\u001b[0;34m()\u001b[0m\n\u001b[1;32m     46\u001b[0m \u001b[0;31m#along with slate.  If not, see <http://www.gnu.org/licenses/>.\u001b[0m\u001b[0;34m\u001b[0m\u001b[0;34m\u001b[0m\u001b[0m\n\u001b[1;32m     47\u001b[0m \u001b[0;34m\u001b[0m\u001b[0m\n\u001b[0;32m---> 48\u001b[0;31m \u001b[0;32mfrom\u001b[0m \u001b[0mslate\u001b[0m \u001b[0;32mimport\u001b[0m \u001b[0mPDF\u001b[0m\u001b[0;34m\u001b[0m\u001b[0m\n\u001b[0m",
      "\u001b[0;32m/Users/Jasper/anaconda/lib/python2.7/site-packages/slate/slate.py\u001b[0m in \u001b[0;36m<module>\u001b[0;34m()\u001b[0m\n\u001b[1;32m      1\u001b[0m \u001b[0;32mfrom\u001b[0m \u001b[0mStringIO\u001b[0m \u001b[0;32mimport\u001b[0m \u001b[0mStringIO\u001b[0m\u001b[0;34m\u001b[0m\u001b[0m\n\u001b[1;32m      2\u001b[0m \u001b[0;34m\u001b[0m\u001b[0m\n\u001b[0;32m----> 3\u001b[0;31m \u001b[0;32mfrom\u001b[0m \u001b[0mpdfminer\u001b[0m\u001b[0;34m.\u001b[0m\u001b[0mpdfparser\u001b[0m \u001b[0;32mimport\u001b[0m \u001b[0mPDFParser\u001b[0m\u001b[0;34m\u001b[0m\u001b[0m\n\u001b[0m\u001b[1;32m      4\u001b[0m \u001b[0;32mfrom\u001b[0m \u001b[0mpdfminer\u001b[0m\u001b[0;34m.\u001b[0m\u001b[0mpdfdocument\u001b[0m \u001b[0;32mimport\u001b[0m \u001b[0mPDFDocument\u001b[0m\u001b[0;34m\u001b[0m\u001b[0m\n\u001b[1;32m      5\u001b[0m \u001b[0;32mfrom\u001b[0m \u001b[0mpdfminer\u001b[0m\u001b[0;34m.\u001b[0m\u001b[0mpdfinterp\u001b[0m \u001b[0;32mimport\u001b[0m \u001b[0mPDFResourceManager\u001b[0m\u001b[0;34m\u001b[0m\u001b[0m\n",
      "\u001b[0;31mImportError\u001b[0m: No module named pdfminer.pdfparser"
     ]
    }
   ],
   "source": [
    "import "
   ]
  },
  {
   "cell_type": "code",
   "execution_count": 7,
   "metadata": {
    "collapsed": false
   },
   "outputs": [
    {
     "ename": "ImportError",
     "evalue": "No module named pdfminer",
     "output_type": "error",
     "traceback": [
      "\u001b[0;31m---------------------------------------------------------------------------\u001b[0m",
      "\u001b[0;31mImportError\u001b[0m                               Traceback (most recent call last)",
      "\u001b[0;32m<ipython-input-7-61761c66c4c7>\u001b[0m in \u001b[0;36m<module>\u001b[0;34m()\u001b[0m\n\u001b[0;32m----> 1\u001b[0;31m \u001b[0;32mimport\u001b[0m \u001b[0mpdfminer\u001b[0m\u001b[0;34m\u001b[0m\u001b[0m\n\u001b[0m",
      "\u001b[0;31mImportError\u001b[0m: No module named pdfminer"
     ]
    }
   ],
   "source": [
    "import pdfminer"
   ]
  },
  {
   "cell_type": "code",
   "execution_count": null,
   "metadata": {
    "collapsed": true
   },
   "outputs": [],
   "source": [
    "'''\n",
    "+++ MAIN FUNCTIONS +++\n",
    "'''"
   ]
  },
  {
   "cell_type": "code",
   "execution_count": 2,
   "metadata": {
    "collapsed": false
   },
   "outputs": [],
   "source": [
    "f = urllib2.urlopen(\"file:///Users/Jasper/Documents/Github.projects/C4I/projects/Tax_Law_Peerreview/PR_ASSIGNMENT_001/assessment3/submitter12368760/submission86/fields.html\").read()\n",
    "soup = BeautifulSoup(f, \"html.parser\")"
   ]
  },
  {
   "cell_type": "code",
   "execution_count": 3,
   "metadata": {
    "collapsed": false
   },
   "outputs": [
    {
     "name": "stdout",
     "output_type": "stream",
     "text": [
      "https://s3.amazonaws.com/coursera-uploads/user-279fdc8470e2974924f93985/974904/asst-3/048e29d0f0b511e4ad75a3b00aba2019.pdf\n"
     ]
    }
   ],
   "source": [
    "#print soup.prettify()\n",
    "title = soup.find(\"title\").text\n",
    "SUI = re.findall('session_user_id: (.*[^,)])', string = title)[0]\n",
    "MAIN = soup.find(\"div\", {'class':'field-value'})\n",
    "# Control\n",
    "cont = MAIN.find('a')\n",
    "if cont == None:\n",
    "    txt = cont.text\n",
    "contA = cont.get('href')\n",
    "print contA"
   ]
  },
  {
   "cell_type": "code",
   "execution_count": 4,
   "metadata": {
    "collapsed": false
   },
   "outputs": [
    {
     "ename": "NameError",
     "evalue": "name 'slate' is not defined",
     "output_type": "error",
     "traceback": [
      "\u001b[0;31m---------------------------------------------------------------------------\u001b[0m",
      "\u001b[0;31mNameError\u001b[0m                                 Traceback (most recent call last)",
      "\u001b[0;32m<ipython-input-4-8cda8dc6d566>\u001b[0m in \u001b[0;36m<module>\u001b[0;34m()\u001b[0m\n\u001b[0;32m----> 1\u001b[0;31m \u001b[0mslate\u001b[0m\u001b[0;34m.\u001b[0m\u001b[0mPDF\u001b[0m\u001b[0;34m(\u001b[0m\u001b[0mcontA\u001b[0m\u001b[0;34m)\u001b[0m\u001b[0;34m\u001b[0m\u001b[0m\n\u001b[0m",
      "\u001b[0;31mNameError\u001b[0m: name 'slate' is not defined"
     ]
    }
   ],
   "source": [
    "slate.PDF(contA)"
   ]
  },
  {
   "cell_type": "code",
   "execution_count": null,
   "metadata": {
    "collapsed": true
   },
   "outputs": [],
   "source": [
    "'''\n",
    "+++ HELPER FUNCTIONS +++\n",
    "'''\n",
    "\n",
    "'''\n",
    "FUNCTION 1 : Helper function that creates the path for the database. It evaluates whether the path specified by the user ends with\n",
    "'/'. If yes, then paste. If no, then add the '/' to avoid problems.\n",
    "    parameters :\n",
    "        dbname : string\n",
    "            name of the database\n",
    "        path : string\n",
    "            system path where the database is stored. Defaults to '~/desktop'\n",
    "'''\n",
    "\n",
    "def pathMaker(dbname, path):\n",
    "    if path.endswith('/'):\n",
    "        return(path + dbname + '.db')\n",
    "    else:\n",
    "        return(path + '/' + dbname + '.db')\n",
    "    \n",
    "\n",
    "'''\n",
    "FUNCTION 2 : create the SQLite database and commit headers\n",
    "    Parameters :\n",
    "        dbname    : string\n",
    "            name of the database\n",
    "        tablename : string\n",
    "            name of the table in which to store results\n",
    "        path  : string\n",
    "            path to store database. Defaults to '/home/vagrant/Documents/'\n",
    "'''\n",
    "\n",
    "def dbSetup(dbname, tablename, path = '~/desktop', override = \"TRUE\"):\n",
    "    # Want to replace the database?\n",
    "    if override == 'TRUE':\n",
    "        pathfile = pathMaker(dbname, path)\n",
    "        con = lite.connect(pathfile)\n",
    "        cur = con.cursor()\n",
    "        # send headers and create table\n",
    "        cur.execute(\"DROP TABLE IF EXISTS {};\".format(tablename))\n",
    "        cur.execute(\"CREATE TABLE {}(IP TEXT, CC TEXT);\".format(tablename))\n",
    "        # Commit\n",
    "        con.commit()\n",
    "    else:\n",
    "        print \"A table with the name {} already exists for path {}. You specified the override option to be {}. The database will be left alone . . . yay!\".format(dbname, path, str(override))\n",
    "\n",
    "'''\n",
    "FUNCTION 3 : Insert results form each page to the database\n",
    "    Parameters :\n",
    "        values_list : list \n",
    "            list of values to send to the database\n",
    "        dbname      : string\n",
    "            name of the database\n",
    "        tablename   : string\n",
    "            name of the table in which to store results\n",
    "        path        : string\n",
    "            path to the database. Defaults to '/home/vagrant/Documents/'\n",
    "'''\n",
    "\n",
    "def dbInsert(values_list, dbname, tablename , path = '~/desktop/'):\n",
    "    # Path to db\n",
    "    pathfile = pathMaker(dbname, path)\n",
    "    # Try connecting and inserting\n",
    "    try:\n",
    "        con = lite.connect(pathfile) \n",
    "        with con:  \n",
    "            # Cursor file\n",
    "            cur = con.cursor()\n",
    "            # Write values to db\n",
    "            cur.executemany(\"INSERT INTO {} (IP, CC) VALUES(?, ?);\".format(tablename), values_list)\n",
    "            # Commit (i.e. save) changes\n",
    "            con.commit()\n",
    "        # Close connection\n",
    "        con.close()           \n",
    "    except:\n",
    "        print 'Error while setting up the database. Quitting the script now . . . '"
   ]
  },
  {
   "cell_type": "code",
   "execution_count": null,
   "metadata": {
    "collapsed": true
   },
   "outputs": [],
   "source": []
  }
 ],
 "metadata": {
  "kernelspec": {
   "display_name": "Python 2",
   "language": "python",
   "name": "python2"
  },
  "language_info": {
   "codemirror_mode": {
    "name": "ipython",
    "version": 2
   },
   "file_extension": ".py",
   "mimetype": "text/x-python",
   "name": "python",
   "nbconvert_exporter": "python",
   "pygments_lexer": "ipython2",
   "version": "2.7.9"
  }
 },
 "nbformat": 4,
 "nbformat_minor": 0
}
